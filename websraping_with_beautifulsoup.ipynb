{
 "cells": [
  {
   "cell_type": "markdown",
   "metadata": {},
   "source": [
    "# Indeed Job Scraping"
   ]
  },
  {
   "cell_type": "code",
   "execution_count": 26,
   "metadata": {},
   "outputs": [],
   "source": [
    "#for export data\n",
    "import csv\n",
    "##to current Date\n",
    "from datetime import datetime\n",
    "#to request the server to get raw html\n",
    "import requests\n",
    "#\n"
   ]
  },
  {
   "cell_type": "code",
   "execution_count": null,
   "metadata": {},
   "outputs": [],
   "source": []
  },
  {
   "cell_type": "markdown",
   "metadata": {},
   "source": [
    "# Next open your Browser"
   ]
  },
  {
   "cell_type": "code",
   "execution_count": 2,
   "metadata": {},
   "outputs": [],
   "source": [
    "#q-->input Box\n",
    "#l -->location\n",
    "# url='https://in.indeed.com/jobs?q=senior%20accountant&l&vjk=45488387ceb94f7c'\n",
    "#https://in.indeed.com/jobs?q=senior%20accountant&l=India&advn=7784480416725569&\n",
    "# url='https://in.indeed.com/jobs?q={}&l=India&advn=7784480416725569'\n",
    "# template='https://in.indeed.com/jobs?q={}&l={}'"
   ]
  },
  {
   "cell_type": "code",
   "execution_count": 3,
   "metadata": {},
   "outputs": [],
   "source": [
    "#Create function get Urls\n",
    "\n",
    "def get_url(positon,location):\n",
    "    #Generate a url from postion and location\n",
    "    template='https://in.indeed.com/jobs?q={}&l={}'\n",
    "    \n",
    "    url=template.format(positon,location)\n",
    "    return url"
   ]
  },
  {
   "cell_type": "code",
   "execution_count": 4,
   "metadata": {},
   "outputs": [
    {
     "data": {
      "text/plain": [
       "'https://in.indeed.com/jobs?q=senior account&l=india'"
      ]
     },
     "execution_count": 4,
     "metadata": {},
     "output_type": "execute_result"
    }
   ],
   "source": [
    "url=get_url('senior account','india')\n",
    "#'https://in.indeed.com/jobs?q=senior account&l=india'\n",
    "#url\n",
    "url"
   ]
  },
  {
   "cell_type": "markdown",
   "metadata": {},
   "source": [
    "# Extract raw html"
   ]
  },
  {
   "cell_type": "code",
   "execution_count": 5,
   "metadata": {},
   "outputs": [],
   "source": [
    "#use get function which tures passing the url obj in  get function\n",
    "response=requests.get(url)"
   ]
  },
  {
   "cell_type": "code",
   "execution_count": 6,
   "metadata": {},
   "outputs": [
    {
     "data": {
      "text/plain": [
       "<Response [200]>"
      ]
     },
     "execution_count": 6,
     "metadata": {},
     "output_type": "execute_result"
    }
   ],
   "source": [
    "#if request is succes give the response \n",
    "response\n",
    "#<Response [200]>\n"
   ]
  },
  {
   "cell_type": "code",
   "execution_count": 7,
   "metadata": {},
   "outputs": [
    {
     "data": {
      "text/plain": [
       "'OK'"
      ]
     },
     "execution_count": 7,
     "metadata": {},
     "output_type": "execute_result"
    }
   ],
   "source": [
    "#reguest is sucess give it ok\n",
    "response.reason\n",
    "# response.text"
   ]
  },
  {
   "cell_type": "code",
   "execution_count": 8,
   "metadata": {},
   "outputs": [],
   "source": [
    "#we cane creat soup obj to navigate  html tree structore of web page and extract dovelopment parse\n",
    "soup=BeautifulSoup(response.text,'html.parser')\n"
   ]
  },
  {
   "cell_type": "code",
   "execution_count": 9,
   "metadata": {},
   "outputs": [],
   "source": [
    "div_tags=soup.find_all('div','jobsearch-SerpJobCard')\n"
   ]
  },
  {
   "cell_type": "code",
   "execution_count": 10,
   "metadata": {},
   "outputs": [
    {
     "data": {
      "text/plain": [
       "15"
      ]
     },
     "execution_count": 10,
     "metadata": {},
     "output_type": "execute_result"
    }
   ],
   "source": [
    "len(div_tags)"
   ]
  },
  {
   "cell_type": "markdown",
   "metadata": {},
   "source": [
    "# The model with single record"
   ]
  },
  {
   "cell_type": "code",
   "execution_count": 23,
   "metadata": {},
   "outputs": [
    {
     "data": {
      "text/plain": [
       "16"
      ]
     },
     "execution_count": 23,
     "metadata": {},
     "output_type": "execute_result"
    }
   ],
   "source": [
    "#several types pieces of information there\n",
    "#Job title\n",
    "#company name\n",
    "#salary\n",
    "#location\n",
    "#job summery\n",
    "\n",
    "dtag1=div_tags[0]\n",
    "len(dtag1)"
   ]
  },
  {
   "cell_type": "markdown",
   "metadata": {},
   "source": [
    "# for job title"
   ]
  },
  {
   "cell_type": "code",
   "execution_count": 12,
   "metadata": {},
   "outputs": [
    {
     "data": {
      "text/plain": [
       "'https://in.indeed.com/pagead/clk?mo=r&ad=-6NYlbfkN0AoIjGJSvVpIY-4UqwYILTu8WDPlamDRbUEYTZI4fONukwqJgGnqHrOH8ysgHc0ueIM9N77GzpGXw78cj-fTddg63MJrJ7fGFmbChgI3Xh-1OBwFGNZeU-4UFcm4AaFM7nWUHUZjbq4fKA4QIAjIc683hBNyPKO7aehDq3kTCxYdq6kt7w2DcR2Owx9EP8_OAk9Lsi80RXcDOEkzW6qftFASdOUxsmAAn7Gog72Qpz0tta--QBzQoHIiukHmouYCncjFWpqEqbuW5zf7NPM2Qd4KmNbvhHZPN6ezFZzIvoc7hC6Ytb2RyOtTE1V4cf6WzSqByf33z5ycppPAOcdCyx4B6JzrdrjoGwYVD6WioPY_ckACwpYRjcJN6whSt4fMFYPBmLyltKM6xIe20k5J8K89F4y0JSTEGVIr9C0ZCt15vUKlotW89B6_b0L0pwHdWimXI2Qe7KCPg==&p=0&fvj=1&vjs=3'"
      ]
     },
     "execution_count": 12,
     "metadata": {},
     "output_type": "execute_result"
    }
   ],
   "source": [
    "#lets take out job title\n",
    "a_tag=dtag1.h2.a\n",
    "job_title=a_tag.get('title')\n",
    "job_Url='https://in.indeed.com'+a_tag.get('href')\n",
    "job_Url\n",
    "\n"
   ]
  },
  {
   "cell_type": "code",
   "execution_count": 13,
   "metadata": {},
   "outputs": [],
   "source": [
    "# a_tag\n",
    "# <a class=\"jobtitle turnstileLink\" data-tn-element=\"jobTitle\" href=\"/company/FRIZAIR/jobs/Senior-Accountant-d8b6b5b371409692?fccid=7a780d1be3440de7&amp;vjs=3\" id=\"jl_d8b6b5b371409692\" onclick=\"setRefineByCookie([]); return rclk(this,jobmap[0],true,1);\" onmousedown=\"return rclk(this,jobmap[0],1);\" rel=\"noopener nofollow\" target=\"_blank\" title=\"Senior Accountant\">\n",
    "# <b>Senior</b> Accountant</a>"
   ]
  },
  {
   "cell_type": "markdown",
   "metadata": {},
   "source": [
    "# For company name"
   ]
  },
  {
   "cell_type": "code",
   "execution_count": 14,
   "metadata": {},
   "outputs": [
    {
     "data": {
      "text/plain": [
       "'Suman Electric Udyogs Pvt Ltd'"
      ]
     },
     "execution_count": 14,
     "metadata": {},
     "output_type": "execute_result"
    }
   ],
   "source": [
    "#find Method : prpoerty class search criteria dta_tag.find('span',{'class':'company'})\n",
    "\n",
    "\n",
    "# dtag1.find('span','company')\n",
    "company=dtag1.find('span','company').text.strip()\n",
    "company"
   ]
  },
  {
   "cell_type": "markdown",
   "metadata": {},
   "source": [
    "# for location"
   ]
  },
  {
   "cell_type": "code",
   "execution_count": 15,
   "metadata": {},
   "outputs": [
    {
     "data": {
      "text/plain": [
       "'Bengaluru, Karnataka'"
      ]
     },
     "execution_count": 15,
     "metadata": {},
     "output_type": "execute_result"
    }
   ],
   "source": [
    "Job_location=dtag1.find('div','recJobLoc').get(\"data-rc-loc\")\n",
    "Job_location"
   ]
  },
  {
   "cell_type": "code",
   "execution_count": 16,
   "metadata": {},
   "outputs": [
    {
     "data": {
      "text/plain": [
       "'₹20,000 - ₹30,000 a month'"
      ]
     },
     "execution_count": 16,
     "metadata": {},
     "output_type": "execute_result"
    }
   ],
   "source": [
    "salary=dtag1.find('span','salaryText').text.strip()\n",
    "salary"
   ]
  },
  {
   "cell_type": "markdown",
   "metadata": {},
   "source": [
    "# summery"
   ]
  },
  {
   "cell_type": "code",
   "execution_count": 17,
   "metadata": {},
   "outputs": [
    {
     "data": {
      "text/plain": [
       "'On time payment collection & need to maintain Invoice ageing of various customer.\\nNeed to handle team of 5 member.\\nSmart in work flow process.'"
      ]
     },
     "execution_count": 17,
     "metadata": {},
     "output_type": "execute_result"
    }
   ],
   "source": [
    "Job_summery=dtag1.find('div','summary').text.strip()\n",
    "Job_summery"
   ]
  },
  {
   "cell_type": "markdown",
   "metadata": {},
   "source": [
    "# Post date"
   ]
  },
  {
   "cell_type": "code",
   "execution_count": 18,
   "metadata": {},
   "outputs": [
    {
     "data": {
      "text/plain": [
       "'5 days ago'"
      ]
     },
     "execution_count": 18,
     "metadata": {},
     "output_type": "execute_result"
    }
   ],
   "source": [
    "post_date=dtag1.find('span','date').text.strip()\n",
    "post_date"
   ]
  },
  {
   "cell_type": "code",
   "execution_count": 19,
   "metadata": {},
   "outputs": [],
   "source": [
    "tody=datetime.today().strftime('%Y-%m-%d')"
   ]
  },
  {
   "cell_type": "markdown",
   "metadata": {},
   "source": [
    "# slalary range"
   ]
  },
  {
   "cell_type": "code",
   "execution_count": 21,
   "metadata": {},
   "outputs": [
    {
     "data": {
      "text/plain": [
       "'₹20,000 - ₹30,000 a month'"
      ]
     },
     "execution_count": 21,
     "metadata": {},
     "output_type": "execute_result"
    }
   ],
   "source": [
    "try:\n",
    "    \n",
    "    job_salary=dtag1.find('span','salaryText').text.strip()\n",
    "except AttributeError:\n",
    "    job_salary=''\n",
    "    \n",
    "job_salary\n"
   ]
  },
  {
   "cell_type": "code",
   "execution_count": 24,
   "metadata": {},
   "outputs": [],
   "source": [
    "def get_records(card):\n",
    "    card=soup.find_all('div','jobsearch-SerpJobCard')\n",
    "    \n",
    "\n",
    "    \n",
    "    "
   ]
  },
  {
   "cell_type": "code",
   "execution_count": null,
   "metadata": {},
   "outputs": [],
   "source": []
  }
 ],
 "metadata": {
  "kernelspec": {
   "display_name": "Python 3",
   "language": "python",
   "name": "python3"
  },
  "language_info": {
   "codemirror_mode": {
    "name": "ipython",
    "version": 3
   },
   "file_extension": ".py",
   "mimetype": "text/x-python",
   "name": "python",
   "nbconvert_exporter": "python",
   "pygments_lexer": "ipython3",
   "version": "3.7.6"
  }
 },
 "nbformat": 4,
 "nbformat_minor": 4
}
